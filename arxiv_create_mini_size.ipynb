{
 "cells": [
  {
   "cell_type": "markdown",
   "id": "ce9e662b",
   "metadata": {},
   "source": [
    "========= Debug =================="
   ]
  },
  {
   "cell_type": "code",
   "execution_count": 19,
   "id": "7723a449",
   "metadata": {},
   "outputs": [],
   "source": [
    "infile_d = open(f\"./arxiv/dataset_large.txt\", mode=\"r\", encoding=\"utf-8\")\n",
    "infile_l = open(f\"./arxiv/labels_large.txt\", mode=\"r\", encoding=\"utf-8\")"
   ]
  },
  {
   "cell_type": "code",
   "execution_count": 20,
   "id": "d49716de",
   "metadata": {},
   "outputs": [],
   "source": [
    "data = infile_d.readlines()\n",
    "label = infile_l.readlines()"
   ]
  },
  {
   "cell_type": "code",
   "execution_count": 21,
   "id": "d07ae51a",
   "metadata": {},
   "outputs": [],
   "source": [
    "label_dict = {}\n",
    "for idx, lab in enumerate(label):\n",
    "    if lab not in label_dict:\n",
    "        label_dict[lab] = []\n",
    "    label_dict[lab].append(idx)"
   ]
  },
  {
   "cell_type": "code",
   "execution_count": 22,
   "id": "85c0d913",
   "metadata": {},
   "outputs": [
    {
     "name": "stdout",
     "output_type": "stream",
     "text": [
      "cs.CV\t5732\n",
      "math.NA\t5895\n",
      "cs.GT\t1366\n",
      "math.AG\t12741\n",
      "cs.IT\t12452\n",
      "physics.optics\t8195\n",
      "physics.flu-dyn\t3827\n",
      "math.FA\t6207\n",
      "math.NT\t10567\n",
      "physics.atom-ph\t3965\n",
      "math.CV\t3371\n",
      "math.AP\t13743\n",
      "math.GM\t1654\n",
      "cs.AI\t3880\n",
      "cs.DC\t2084\n",
      "math.OC\t4873\n",
      "physics.ins-det\t2436\n",
      "cs.CL\t2870\n",
      "math.ST\t4992\n",
      "physics.acc-ph\t2548\n",
      "math.PR\t12868\n",
      "math.DG\t9746\n",
      "cs.NI\t4325\n",
      "physics.gen-ph\t5091\n",
      "physics.plasm-ph\t3188\n",
      "physics.chem-ph\t1748\n",
      "math.CO\t13014\n",
      "math.OA\t2319\n",
      "math.RT\t3840\n",
      "math.CA\t5162\n",
      "math.DS\t6524\n",
      "math.GR\t4266\n",
      "cs.SE\t2078\n",
      "math.QA\t3091\n",
      "math.LO\t3274\n",
      "cs.CC\t1201\n",
      "cs.CR\t2716\n",
      "physics.soc-ph\t1545\n",
      "math.RA\t3276\n",
      "cs.LG\t1749\n",
      "physics.class-ph\t1462\n",
      "cs.LO\t2427\n",
      "cs.SY\t1369\n",
      "math.SG\t1038\n",
      "cs.CY\t1283\n",
      "math.AT\t2197\n",
      "math.AC\t2418\n",
      "cs.DS\t3267\n",
      "math.GT\t4979\n",
      "math.MG\t1487\n",
      "cs.PL\t1008\n",
      "cs.OH\t1336\n",
      "cs.DB\t1415\n"
     ]
    }
   ],
   "source": [
    "for k, v in label_dict.items():\n",
    "    print(f\"{k[:-1]}\\t{len(v)}\")"
   ]
  },
  {
   "cell_type": "code",
   "execution_count": 23,
   "id": "614ab5dd",
   "metadata": {},
   "outputs": [],
   "source": [
    "from random import sample\n",
    "sample_size = 270\n",
    "res = []\n",
    "for v in label_dict.values():\n",
    "    if len(v) > sample_size:\n",
    "        l = sample(v, sample_size)\n",
    "    else:\n",
    "        l = v\n",
    "    res.extend(l)"
   ]
  },
  {
   "cell_type": "code",
   "execution_count": 24,
   "id": "36e173a6",
   "metadata": {},
   "outputs": [],
   "source": [
    "res.sort()"
   ]
  },
  {
   "cell_type": "code",
   "execution_count": 25,
   "id": "c6229eed",
   "metadata": {},
   "outputs": [],
   "source": [
    "outfile_d_dir = f\"./arxiv/dataset.txt\"\n",
    "outfile_l_dir = f\"./arxiv/labels.txt\"\n",
    "outfile_d = open(outfile_d_dir, \"w\", encoding=\"utf-8\")\n",
    "outfile_l = open(outfile_l_dir, \"w\", encoding=\"utf-8\")\n",
    "for idx in res:\n",
    "    outfile_d.write(data[idx])\n",
    "    outfile_l.write(f\"{label[idx]}\")\n",
    "outfile_d.close()\n",
    "outfile_l.close()"
   ]
  },
  {
   "cell_type": "code",
   "execution_count": null,
   "id": "2fe34a0e",
   "metadata": {},
   "outputs": [],
   "source": []
  }
 ],
 "metadata": {
  "kernelspec": {
   "display_name": "Python 3 (ipykernel)",
   "language": "python",
   "name": "python3"
  },
  "language_info": {
   "codemirror_mode": {
    "name": "ipython",
    "version": 3
   },
   "file_extension": ".py",
   "mimetype": "text/x-python",
   "name": "python",
   "nbconvert_exporter": "python",
   "pygments_lexer": "ipython3",
   "version": "3.8.13"
  }
 },
 "nbformat": 4,
 "nbformat_minor": 5
}
