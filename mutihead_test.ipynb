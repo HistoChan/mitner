{
 "cells": [
  {
   "cell_type": "code",
   "execution_count": null,
   "id": "48585ee8",
   "metadata": {},
   "outputs": [],
   "source": [
    "from bert_modelling import *"
   ]
  },
  {
   "cell_type": "code",
   "execution_count": null,
   "id": "920a7b3a",
   "metadata": {},
   "outputs": [],
   "source": [
    "model = CustomBERTClassifier.from_pretrained(\n",
    "    \"bert-base-uncased\",\n",
    "    num_labels=3,  # The number of output labels\n",
    "    output_attentions=False,  # Whether the model returns attentions weights.\n",
    "    output_hidden_states=False,  # Whether the model returns all hidden-states.\n",
    ")"
   ]
  },
  {
   "cell_type": "code",
   "execution_count": 167,
   "id": "d4fd8e0a",
   "metadata": {},
   "outputs": [],
   "source": [
    "from torch import randn, unsqueeze, squeeze, bmm\n",
    "pooled_output = randn(16,768)\n",
    "class_embedding = randn(5,768)\n",
    "num_labels = 5"
   ]
  },
  {
   "cell_type": "code",
   "execution_count": 168,
   "id": "b8307f67",
   "metadata": {},
   "outputs": [],
   "source": [
    "from torch.nn import MultiheadAttention\n",
    "multihead_attn = MultiheadAttention(768, 12)"
   ]
  },
  {
   "cell_type": "code",
   "execution_count": 174,
   "id": "cd7ccde1",
   "metadata": {},
   "outputs": [
    {
     "name": "stdout",
     "output_type": "stream",
     "text": [
      "batch_size 16\n",
      "query torch.Size([16, 1, 768])\n",
      "embedding_candidate torch.Size([16, 768])\n",
      "key torch.Size([16, 1, 768])\n",
      "embedding_candidate torch.Size([16, 1, 768])\n",
      "embedding_candidate torch.Size([16, 768])\n",
      "embedding_candidate torch.Size([16, 768, 1])\n",
      "embedding_candidate torch.Size([16, 768])\n",
      "key torch.Size([16, 1, 768])\n",
      "embedding_candidate torch.Size([16, 1, 768])\n",
      "embedding_candidate torch.Size([16, 768])\n",
      "embedding_candidate torch.Size([16, 768, 1])\n",
      "embedding_candidate torch.Size([16, 768])\n",
      "key torch.Size([16, 1, 768])\n",
      "embedding_candidate torch.Size([16, 1, 768])\n",
      "embedding_candidate torch.Size([16, 768])\n",
      "embedding_candidate torch.Size([16, 768, 1])\n",
      "embedding_candidate torch.Size([16, 768])\n",
      "key torch.Size([16, 1, 768])\n",
      "embedding_candidate torch.Size([16, 1, 768])\n",
      "embedding_candidate torch.Size([16, 768])\n",
      "embedding_candidate torch.Size([16, 768, 1])\n",
      "embedding_candidate torch.Size([16, 768])\n",
      "key torch.Size([16, 1, 768])\n",
      "embedding_candidate torch.Size([16, 1, 768])\n",
      "embedding_candidate torch.Size([16, 768])\n",
      "embedding_candidate torch.Size([16, 768, 1])\n"
     ]
    }
   ],
   "source": [
    "batch_size = pooled_output.size(0)\n",
    "print(\"batch_size\", batch_size)\n",
    "query = pooled_output.unsqueeze(1)  # (batch size, 1, embed_dim)\n",
    "print(\"query\", query.shape)\n",
    "scores = []\n",
    "for idx in range(num_labels):  # per each class\n",
    "    embedding_candidate = (\n",
    "        class_embedding[idx, :].unsqueeze(0).repeat(batch_size, 1)\n",
    "    )\n",
    "    print(\"embedding_candidate\", embedding_candidate.shape)\n",
    "    key = embedding_candidate.unsqueeze(1)  # (batch size, 1, embed_dim)\n",
    "    print(\"key\", key.shape)\n",
    "    embedding_candidate, _ = multihead_attn(\n",
    "        query, key, key\n",
    "    )  # drop the weight\n",
    "    print(\"embedding_candidate\", embedding_candidate.shape)\n",
    "    embedding_candidate = (\n",
    "        embedding_candidate.squeeze()\n",
    "    )\n",
    "    print(\"embedding_candidate\", embedding_candidate.shape)\n",
    "    embedding_candidate = embedding_candidate.unsqueeze(2) # num_mention_in_batch x embed_size x 1\n",
    "    print(\"embedding_candidate\", embedding_candidate.shape)\n",
    "    score = bmm(query, embedding_candidate)  # num_mention_in_batch x 1 x 1\n",
    "    score = squeeze(score).unsqueeze(-1)  # (batch size, 1)\n",
    "    scores.append(score)"
   ]
  },
  {
   "cell_type": "code",
   "execution_count": 178,
   "id": "35b5ec79",
   "metadata": {},
   "outputs": [],
   "source": [
    "from torch import cat\n",
    "scores_output = cat(scores, dim=-1)"
   ]
  },
  {
   "cell_type": "code",
   "execution_count": 1,
   "id": "711b88ff",
   "metadata": {},
   "outputs": [],
   "source": [
    "import pickle\n",
    "output_name = \"nyt.pkl\"\n",
    "outp = open(output_name, \"rb\")\n",
    "outp_dict = pickle.load(outp)\n",
    "tree = outp_dict[\"class_tree\"]"
   ]
  },
  {
   "cell_type": "code",
   "execution_count": 2,
   "id": "cce77fe2",
   "metadata": {},
   "outputs": [
    {
     "data": {
      "text/plain": [
       "<tree.ClassNode at 0x1d44d48d190>"
      ]
     },
     "execution_count": 2,
     "metadata": {},
     "output_type": "execute_result"
    }
   ],
   "source": [
    "tree"
   ]
  },
  {
   "cell_type": "code",
   "execution_count": 4,
   "id": "dd0cc012",
   "metadata": {},
   "outputs": [],
   "source": [
    "from load_data import add_embedding_class_description"
   ]
  },
  {
   "cell_type": "code",
   "execution_count": 5,
   "id": "fcfb666f",
   "metadata": {},
   "outputs": [],
   "source": [
    "add_embedding_class_description(tree)"
   ]
  },
  {
   "cell_type": "code",
   "execution_count": 11,
   "id": "ead17634",
   "metadata": {},
   "outputs": [
    {
     "data": {
      "text/plain": [
       "torch.Size([768])"
      ]
     },
     "execution_count": 11,
     "metadata": {},
     "output_type": "execute_result"
    }
   ],
   "source": [
    "tree.children[0].embedding_BERT.shape"
   ]
  },
  {
   "cell_type": "code",
   "execution_count": null,
   "id": "79e9a146",
   "metadata": {},
   "outputs": [],
   "source": []
  }
 ],
 "metadata": {
  "kernelspec": {
   "display_name": "Python 3 (ipykernel)",
   "language": "python",
   "name": "python3"
  },
  "language_info": {
   "codemirror_mode": {
    "name": "ipython",
    "version": 3
   },
   "file_extension": ".py",
   "mimetype": "text/x-python",
   "name": "python",
   "nbconvert_exporter": "python",
   "pygments_lexer": "ipython3",
   "version": "3.8.13"
  }
 },
 "nbformat": 4,
 "nbformat_minor": 5
}
