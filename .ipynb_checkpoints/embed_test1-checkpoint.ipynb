{
 "cells": [
  {
   "cell_type": "code",
   "execution_count": 1,
   "id": "d96e0d75",
   "metadata": {},
   "outputs": [],
   "source": [
    "import numpy as np\n",
    "\n",
    "np.random.seed(1234)\n",
    "import pickle\n",
    "import argparse\n",
    "from load_data import *\n",
    "import torch\n",
    "from transformers import (\n",
    "    BertTokenizer,\n",
    "    BertForSequenceClassification,\n",
    "    get_linear_schedule_with_warmup,\n",
    ")\n",
    "\n",
    "MODEL_TYPE = \"bert-base-uncased\"\n",
    "SEQ_LEN = 256\n",
    "BATCH_SIZE = 16"
   ]
  },
  {
   "cell_type": "code",
   "execution_count": 2,
   "id": "6a345860",
   "metadata": {},
   "outputs": [],
   "source": [
    "# get pre-train tokenizer\n",
    "tokenizer = BertTokenizer.from_pretrained(MODEL_TYPE)"
   ]
  },
  {
   "cell_type": "code",
   "execution_count": 4,
   "id": "e0c2572d",
   "metadata": {},
   "outputs": [
    {
     "name": "stdout",
     "output_type": "stream",
     "text": [
      "Total number of classes: 31\n",
      "ROOT (-1) \tpolitics,arts,business,science,sports\n",
      "politics (0) \tfederal_budget,surveillance,the_affordable_care_act,immigration,law_enforcement,gay_rights,gun_control,military,abortion\n",
      "federal_budget (5) \t\n",
      "surveillance (6) \t\n",
      "the_affordable_care_act (7) \t\n",
      "immigration (8) \t\n",
      "law_enforcement (9) \t\n",
      "gay_rights (10) \t\n",
      "gun_control (11) \t\n",
      "military (12) \t\n",
      "abortion (13) \t\n",
      "arts (1) \tdance,television,music,movies\n",
      "dance (14) \t\n",
      "television (15) \t\n",
      "music (16) \t\n",
      "movies (17) \t\n",
      "business (2) \tstocks_and_bonds,energy_companies,economy,international_business\n",
      "stocks_and_bonds (18) \t\n",
      "energy_companies (19) \t\n",
      "economy (20) \t\n",
      "international_business (21) \t\n",
      "science (3) \tcosmos,environment\n",
      "cosmos (22) \t\n",
      "environment (23) \t\n",
      "sports (4) \thockey,basketball,tennis,golf,football,baseball,soccer\n",
      "hockey (24) \t\n",
      "basketball (25) \t\n",
      "tennis (26) \t\n",
      "golf (27) \t\n",
      "football (28) \t\n",
      "baseball (29) \t\n",
      "soccer (30) \t\n",
      "\n",
      "Defined maximum document length: 64 (words)\n",
      "Potential common words 895 .\n",
      "We have added 0 tokens from 1 words.\n"
     ]
    }
   ],
   "source": [
    "tokenizer1, input_ids, attention_masks = load_dataset_BERT(\"nyt\", tokenizer, with_eval=True)"
   ]
  },
  {
   "cell_type": "code",
   "execution_count": null,
   "id": "c4f0f8da",
   "metadata": {},
   "outputs": [],
   "source": []
  }
 ],
 "metadata": {
  "kernelspec": {
   "display_name": "Python 3 (ipykernel)",
   "language": "python",
   "name": "python3"
  },
  "language_info": {
   "codemirror_mode": {
    "name": "ipython",
    "version": 3
   },
   "file_extension": ".py",
   "mimetype": "text/x-python",
   "name": "python",
   "nbconvert_exporter": "python",
   "pygments_lexer": "ipython3",
   "version": "3.8.13"
  }
 },
 "nbformat": 4,
 "nbformat_minor": 5
}
